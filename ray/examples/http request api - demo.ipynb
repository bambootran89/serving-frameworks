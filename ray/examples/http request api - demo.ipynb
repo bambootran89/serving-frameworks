{
 "cells": [
  {
   "cell_type": "markdown",
   "id": "6c46cb58-8a7f-4dc2-99b1-c12fb65a6d93",
   "metadata": {},
   "source": [
    "## docs\n",
    "- https://docs.ray.io/en/latest/serve/getting_started.html\n",
    "- https://docs.ray.io/en/latest/serve/monitoring.html --- ( http://IP:8265)"
   ]
  },
  {
   "cell_type": "code",
   "execution_count": 3,
   "id": "941c6ac8-15f6-4dc1-91b2-ed2410115a0a",
   "metadata": {},
   "outputs": [
    {
     "name": "stdout",
     "output_type": "stream",
     "text": [
      "c'était le meilleur des temps, c'était le pire des temps .\n"
     ]
    }
   ],
   "source": [
    "# File name: composed_client.py\n",
    "import requests\n",
    "\n",
    "english_text = (\n",
    "    \"It was the best of times, it was the worst of times, it was the age \"\n",
    "    \"of wisdom, it was the age of foolishness, it was the epoch of belief\"\n",
    ")\n",
    "response = requests.post(\"http://127.0.0.1:8000/\", json=english_text)\n",
    "french_text = response.text\n",
    "\n",
    "print(french_text)"
   ]
  },
  {
   "cell_type": "markdown",
   "id": "a7f581ee-0ee8-48b0-9d1a-48329123c39b",
   "metadata": {},
   "source": [
    "## learn gen serve_config.yaml\n",
    "- https://docs.ray.io/en/latest/serve/configure-serve-deployment.html\n",
    "\n",
    "serve build serve_quickstart_composed:app -o serve_config.yaml\n",
    "\n",
    "\n",
    "we can edit change serve_config.yaml. for example, we can apply Autoscaling by change num_replicas to \"auto\"\n",
    "(https://docs.ray.io/en/latest/serve/autoscaling-guide.html#serve-autoscaling)\n",
    "\n",
    "```\n",
    "  - name: Translator\n",
    "    num_replicas: auto\n",
    "    autoscaling_config:\n",
    "      target_ongoing_requests: 2\n",
    "      min_replicas: 1\n",
    "      max_replicas: 100\n",
    "```"
   ]
  },
  {
   "cell_type": "code",
   "execution_count": null,
   "id": "4e7b1669-cf73-4cc0-8040-4c919688f6a4",
   "metadata": {},
   "outputs": [],
   "source": [
    "# Start a local Ray cluster.\n",
    "! CUDA_VISIBLE_DEVICES=1 ray start --head"
   ]
  },
  {
   "cell_type": "code",
   "execution_count": null,
   "id": "c6b0497f-bf1f-40ed-ba80-70cdf74bed43",
   "metadata": {},
   "outputs": [],
   "source": [
    "# Deploy the Text ML application to the local Ray cluster.\n",
    "! CUDA_VISIBLE_DEVICES=1 serve deploy serve_config.yaml"
   ]
  },
  {
   "cell_type": "code",
   "execution_count": 7,
   "id": "8afbc8ba-99b3-43ec-9a26-b297dd446281",
   "metadata": {},
   "outputs": [
    {
     "name": "stdout",
     "output_type": "stream",
     "text": [
      "c'était le meilleur des temps, c'était le pire des temps .\n"
     ]
    }
   ],
   "source": [
    "# File name: composed_client.py\n",
    "import requests\n",
    "\n",
    "english_text = (\n",
    "    \"It was the best of times, it was the worst of times, it was the age \"\n",
    "    \"of wisdom, it was the age of foolishness, it was the epoch of belief\"\n",
    ")\n",
    "response = requests.post(\"http://127.0.0.1:8000/\", json=english_text)\n",
    "french_text = response.text\n",
    "\n",
    "print(french_text)"
   ]
  },
  {
   "cell_type": "code",
   "execution_count": null,
   "id": "bff7324f-df50-44bc-bbb8-4819e86481f1",
   "metadata": {},
   "outputs": [],
   "source": []
  }
 ],
 "metadata": {
  "kernelspec": {
   "display_name": "Python 3 (ipykernel)",
   "language": "python",
   "name": "python3"
  },
  "language_info": {
   "codemirror_mode": {
    "name": "ipython",
    "version": 3
   },
   "file_extension": ".py",
   "mimetype": "text/x-python",
   "name": "python",
   "nbconvert_exporter": "python",
   "pygments_lexer": "ipython3",
   "version": "3.9.19"
  }
 },
 "nbformat": 4,
 "nbformat_minor": 5
}
